{
  "cells": [
    {
      "cell_type": "code",
      "execution_count": null,
      "metadata": {
        "id": "JYgMt8Isggs_"
      },
      "outputs": [],
      "source": [
        "import warnings \n",
        "warnings.filterwarnings('ignore')\n",
        "\n",
        "import numpy as np\n",
        "import pandas as pd\n",
        "import matplotlib.pyplot as plt\n",
        "%matplotlib inline\n",
        "\n",
        "from sklearn.model_selection import train_test_split, GridSearchCV, cross_val_score\n",
        "from sklearn.linear_model import LogisticRegression\n",
        "from sklearn.metrics import accuracy_score, f1_score, recall_score, precision_score\n",
        "from sklearn.preprocessing import StandardScaler\n",
        "\n",
        "from keras.wrappers.scikit_learn import KerasClassifier\n",
        "from tensorflow.keras import Model, Sequential\n",
        "from tensorflow.keras.layers import Dense, Input \n",
        "import tensorflow as tf\n",
        "\n",
        "import time\n",
        "\n",
        "#add other imports here (if any, for example, pytorch)"
      ]
    },
    {
      "cell_type": "markdown",
      "metadata": {
        "id": "PaD6nkpfZ1zY"
      },
      "source": [
        "## Data set \n",
        "\n",
        "### Source\n",
        "The dataset (CAN-intrusion-dataset-10000.csv) has been constructed by logging CAN traffic via the OBD-II port from a real vehicle while message injection attacks were performing. The classification goal is to distinguish cyber-attacks and normal samples by classifying the data samples. The dataset includes over 10,000 records and 10 attributes (including the target variable \"Label\").\n",
        "\n",
        "### Variables\n",
        "The definitions of the attributes are as followss.\n",
        "\n",
        "* CAN ID : identifier of CAN message.\n",
        "* DATA[0~7] : data value (byte), ranging from 0 to 255. They have been converted from hexadecimal numbers to decimal numbers.  \n",
        "* Label : 0 indicates 'Normal', and 1 indicates an attack (including DoS, Fuzzy, Gear, or RPM)."
      ]
    },
    {
      "cell_type": "markdown",
      "metadata": {
        "id": "Ils9GU09Z1za"
      },
      "source": [
        "A) Load the Data set CAN-intrusion-dataset-10000.csv \n",
        "\n",
        "B) Split the data into equals-sized training and test sets (use a random_state = 1, and do not shuffle the data).  \n",
        "\n",
        "C) How many observations do you have in your training set?  \n",
        "\n",
        "D) How many observations for each class in your training set?\n",
        "\n",
        "E) Z-standarize the input features of the training and test sets."
      ]
    },
    {
      "cell_type": "code",
      "execution_count": null,
      "metadata": {
        "id": "XStrcIS9ggtA",
        "colab": {
          "base_uri": "https://localhost:8080/",
          "height": 423
        },
        "outputId": "6bea35b6-bcbf-41e4-f524-a39dc606397f"
      },
      "outputs": [
        {
          "output_type": "execute_result",
          "data": {
            "text/plain": [
              "      CAN_ID  DATA_0  DATA_1  DATA_2  DATA_3  DATA_4  DATA_5  DATA_6  DATA_7  \\\n",
              "0        305       0     128       0       0      85     127       4     167   \n",
              "1        339       0      33      16     255       0     255       0       0   \n",
              "2        704      20       0       0       0       0       0       0       0   \n",
              "3        339       0      33      16     255       0     255       0       0   \n",
              "4       1072       0       0       0       0       0       0       0       0   \n",
              "...      ...     ...     ...     ...     ...     ...     ...     ...     ...   \n",
              "9995     790      69      41      36     255      41      36       0     255   \n",
              "9996     399     254      75       0       0       0      60       0       0   \n",
              "9997     399     254      81       0       0       0      60       0       0   \n",
              "9998     608      25      34      34      48       8     142     112      38   \n",
              "9999    1088     255       0       0       0     255      60       8       0   \n",
              "\n",
              "      Label  \n",
              "0         0  \n",
              "1         0  \n",
              "2         0  \n",
              "3         0  \n",
              "4         0  \n",
              "...     ...  \n",
              "9995      1  \n",
              "9996      0  \n",
              "9997      0  \n",
              "9998      0  \n",
              "9999      0  \n",
              "\n",
              "[10000 rows x 10 columns]"
            ],
            "text/html": [
              "\n",
              "  <div id=\"df-7b32ea37-0f7f-4789-8762-1a7ee445dedc\">\n",
              "    <div class=\"colab-df-container\">\n",
              "      <div>\n",
              "<style scoped>\n",
              "    .dataframe tbody tr th:only-of-type {\n",
              "        vertical-align: middle;\n",
              "    }\n",
              "\n",
              "    .dataframe tbody tr th {\n",
              "        vertical-align: top;\n",
              "    }\n",
              "\n",
              "    .dataframe thead th {\n",
              "        text-align: right;\n",
              "    }\n",
              "</style>\n",
              "<table border=\"1\" class=\"dataframe\">\n",
              "  <thead>\n",
              "    <tr style=\"text-align: right;\">\n",
              "      <th></th>\n",
              "      <th>CAN_ID</th>\n",
              "      <th>DATA_0</th>\n",
              "      <th>DATA_1</th>\n",
              "      <th>DATA_2</th>\n",
              "      <th>DATA_3</th>\n",
              "      <th>DATA_4</th>\n",
              "      <th>DATA_5</th>\n",
              "      <th>DATA_6</th>\n",
              "      <th>DATA_7</th>\n",
              "      <th>Label</th>\n",
              "    </tr>\n",
              "  </thead>\n",
              "  <tbody>\n",
              "    <tr>\n",
              "      <th>0</th>\n",
              "      <td>305</td>\n",
              "      <td>0</td>\n",
              "      <td>128</td>\n",
              "      <td>0</td>\n",
              "      <td>0</td>\n",
              "      <td>85</td>\n",
              "      <td>127</td>\n",
              "      <td>4</td>\n",
              "      <td>167</td>\n",
              "      <td>0</td>\n",
              "    </tr>\n",
              "    <tr>\n",
              "      <th>1</th>\n",
              "      <td>339</td>\n",
              "      <td>0</td>\n",
              "      <td>33</td>\n",
              "      <td>16</td>\n",
              "      <td>255</td>\n",
              "      <td>0</td>\n",
              "      <td>255</td>\n",
              "      <td>0</td>\n",
              "      <td>0</td>\n",
              "      <td>0</td>\n",
              "    </tr>\n",
              "    <tr>\n",
              "      <th>2</th>\n",
              "      <td>704</td>\n",
              "      <td>20</td>\n",
              "      <td>0</td>\n",
              "      <td>0</td>\n",
              "      <td>0</td>\n",
              "      <td>0</td>\n",
              "      <td>0</td>\n",
              "      <td>0</td>\n",
              "      <td>0</td>\n",
              "      <td>0</td>\n",
              "    </tr>\n",
              "    <tr>\n",
              "      <th>3</th>\n",
              "      <td>339</td>\n",
              "      <td>0</td>\n",
              "      <td>33</td>\n",
              "      <td>16</td>\n",
              "      <td>255</td>\n",
              "      <td>0</td>\n",
              "      <td>255</td>\n",
              "      <td>0</td>\n",
              "      <td>0</td>\n",
              "      <td>0</td>\n",
              "    </tr>\n",
              "    <tr>\n",
              "      <th>4</th>\n",
              "      <td>1072</td>\n",
              "      <td>0</td>\n",
              "      <td>0</td>\n",
              "      <td>0</td>\n",
              "      <td>0</td>\n",
              "      <td>0</td>\n",
              "      <td>0</td>\n",
              "      <td>0</td>\n",
              "      <td>0</td>\n",
              "      <td>0</td>\n",
              "    </tr>\n",
              "    <tr>\n",
              "      <th>...</th>\n",
              "      <td>...</td>\n",
              "      <td>...</td>\n",
              "      <td>...</td>\n",
              "      <td>...</td>\n",
              "      <td>...</td>\n",
              "      <td>...</td>\n",
              "      <td>...</td>\n",
              "      <td>...</td>\n",
              "      <td>...</td>\n",
              "      <td>...</td>\n",
              "    </tr>\n",
              "    <tr>\n",
              "      <th>9995</th>\n",
              "      <td>790</td>\n",
              "      <td>69</td>\n",
              "      <td>41</td>\n",
              "      <td>36</td>\n",
              "      <td>255</td>\n",
              "      <td>41</td>\n",
              "      <td>36</td>\n",
              "      <td>0</td>\n",
              "      <td>255</td>\n",
              "      <td>1</td>\n",
              "    </tr>\n",
              "    <tr>\n",
              "      <th>9996</th>\n",
              "      <td>399</td>\n",
              "      <td>254</td>\n",
              "      <td>75</td>\n",
              "      <td>0</td>\n",
              "      <td>0</td>\n",
              "      <td>0</td>\n",
              "      <td>60</td>\n",
              "      <td>0</td>\n",
              "      <td>0</td>\n",
              "      <td>0</td>\n",
              "    </tr>\n",
              "    <tr>\n",
              "      <th>9997</th>\n",
              "      <td>399</td>\n",
              "      <td>254</td>\n",
              "      <td>81</td>\n",
              "      <td>0</td>\n",
              "      <td>0</td>\n",
              "      <td>0</td>\n",
              "      <td>60</td>\n",
              "      <td>0</td>\n",
              "      <td>0</td>\n",
              "      <td>0</td>\n",
              "    </tr>\n",
              "    <tr>\n",
              "      <th>9998</th>\n",
              "      <td>608</td>\n",
              "      <td>25</td>\n",
              "      <td>34</td>\n",
              "      <td>34</td>\n",
              "      <td>48</td>\n",
              "      <td>8</td>\n",
              "      <td>142</td>\n",
              "      <td>112</td>\n",
              "      <td>38</td>\n",
              "      <td>0</td>\n",
              "    </tr>\n",
              "    <tr>\n",
              "      <th>9999</th>\n",
              "      <td>1088</td>\n",
              "      <td>255</td>\n",
              "      <td>0</td>\n",
              "      <td>0</td>\n",
              "      <td>0</td>\n",
              "      <td>255</td>\n",
              "      <td>60</td>\n",
              "      <td>8</td>\n",
              "      <td>0</td>\n",
              "      <td>0</td>\n",
              "    </tr>\n",
              "  </tbody>\n",
              "</table>\n",
              "<p>10000 rows × 10 columns</p>\n",
              "</div>\n",
              "      <button class=\"colab-df-convert\" onclick=\"convertToInteractive('df-7b32ea37-0f7f-4789-8762-1a7ee445dedc')\"\n",
              "              title=\"Convert this dataframe to an interactive table.\"\n",
              "              style=\"display:none;\">\n",
              "        \n",
              "  <svg xmlns=\"http://www.w3.org/2000/svg\" height=\"24px\"viewBox=\"0 0 24 24\"\n",
              "       width=\"24px\">\n",
              "    <path d=\"M0 0h24v24H0V0z\" fill=\"none\"/>\n",
              "    <path d=\"M18.56 5.44l.94 2.06.94-2.06 2.06-.94-2.06-.94-.94-2.06-.94 2.06-2.06.94zm-11 1L8.5 8.5l.94-2.06 2.06-.94-2.06-.94L8.5 2.5l-.94 2.06-2.06.94zm10 10l.94 2.06.94-2.06 2.06-.94-2.06-.94-.94-2.06-.94 2.06-2.06.94z\"/><path d=\"M17.41 7.96l-1.37-1.37c-.4-.4-.92-.59-1.43-.59-.52 0-1.04.2-1.43.59L10.3 9.45l-7.72 7.72c-.78.78-.78 2.05 0 2.83L4 21.41c.39.39.9.59 1.41.59.51 0 1.02-.2 1.41-.59l7.78-7.78 2.81-2.81c.8-.78.8-2.07 0-2.86zM5.41 20L4 18.59l7.72-7.72 1.47 1.35L5.41 20z\"/>\n",
              "  </svg>\n",
              "      </button>\n",
              "      \n",
              "  <style>\n",
              "    .colab-df-container {\n",
              "      display:flex;\n",
              "      flex-wrap:wrap;\n",
              "      gap: 12px;\n",
              "    }\n",
              "\n",
              "    .colab-df-convert {\n",
              "      background-color: #E8F0FE;\n",
              "      border: none;\n",
              "      border-radius: 50%;\n",
              "      cursor: pointer;\n",
              "      display: none;\n",
              "      fill: #1967D2;\n",
              "      height: 32px;\n",
              "      padding: 0 0 0 0;\n",
              "      width: 32px;\n",
              "    }\n",
              "\n",
              "    .colab-df-convert:hover {\n",
              "      background-color: #E2EBFA;\n",
              "      box-shadow: 0px 1px 2px rgba(60, 64, 67, 0.3), 0px 1px 3px 1px rgba(60, 64, 67, 0.15);\n",
              "      fill: #174EA6;\n",
              "    }\n",
              "\n",
              "    [theme=dark] .colab-df-convert {\n",
              "      background-color: #3B4455;\n",
              "      fill: #D2E3FC;\n",
              "    }\n",
              "\n",
              "    [theme=dark] .colab-df-convert:hover {\n",
              "      background-color: #434B5C;\n",
              "      box-shadow: 0px 1px 3px 1px rgba(0, 0, 0, 0.15);\n",
              "      filter: drop-shadow(0px 1px 2px rgba(0, 0, 0, 0.3));\n",
              "      fill: #FFFFFF;\n",
              "    }\n",
              "  </style>\n",
              "\n",
              "      <script>\n",
              "        const buttonEl =\n",
              "          document.querySelector('#df-7b32ea37-0f7f-4789-8762-1a7ee445dedc button.colab-df-convert');\n",
              "        buttonEl.style.display =\n",
              "          google.colab.kernel.accessAllowed ? 'block' : 'none';\n",
              "\n",
              "        async function convertToInteractive(key) {\n",
              "          const element = document.querySelector('#df-7b32ea37-0f7f-4789-8762-1a7ee445dedc');\n",
              "          const dataTable =\n",
              "            await google.colab.kernel.invokeFunction('convertToInteractive',\n",
              "                                                     [key], {});\n",
              "          if (!dataTable) return;\n",
              "\n",
              "          const docLinkHtml = 'Like what you see? Visit the ' +\n",
              "            '<a target=\"_blank\" href=https://colab.research.google.com/notebooks/data_table.ipynb>data table notebook</a>'\n",
              "            + ' to learn more about interactive tables.';\n",
              "          element.innerHTML = '';\n",
              "          dataTable['output_type'] = 'display_data';\n",
              "          await google.colab.output.renderOutput(dataTable, element);\n",
              "          const docLink = document.createElement('div');\n",
              "          docLink.innerHTML = docLinkHtml;\n",
              "          element.appendChild(docLink);\n",
              "        }\n",
              "      </script>\n",
              "    </div>\n",
              "  </div>\n",
              "  "
            ]
          },
          "metadata": {},
          "execution_count": 2
        }
      ],
      "source": [
        "### Q1A)\n",
        "intrusion_dataset = pd.read_csv(\"CAN-intrusion-dataset-10000.csv\")\n",
        "CAN_Intrusion = pd.DataFrame(intrusion_dataset)\n",
        "CAN_Intrusion"
      ]
    },
    {
      "cell_type": "code",
      "execution_count": null,
      "metadata": {
        "id": "0PJne6haggtA"
      },
      "outputs": [],
      "source": [
        "### Q1B)\n",
        "X = CAN_Intrusion.drop(['Label'], axis=1)\n",
        "y = CAN_Intrusion.loc[:, ['Label']]\n",
        "X_train, X_test, y_train, y_test = train_test_split(X, y, test_size=0.5, random_state=1, shuffle=False)"
      ]
    },
    {
      "cell_type": "code",
      "execution_count": null,
      "metadata": {
        "id": "NT1z-EwYggtA",
        "colab": {
          "base_uri": "https://localhost:8080/"
        },
        "outputId": "22811401-ff88-4e53-d2cb-46aaf52661f8"
      },
      "outputs": [
        {
          "output_type": "stream",
          "name": "stdout",
          "text": [
            "There are  5000  observation in input training set.\n",
            "There are  5000  observation in target training set.\n"
          ]
        }
      ],
      "source": [
        "### Q1C) \n",
        "print(\"There are \", X_train.shape[0], \" observation in input training set.\")\n",
        "print(\"There are \", y_train.shape[0], \" observation in target training set.\")"
      ]
    },
    {
      "cell_type": "code",
      "execution_count": null,
      "metadata": {
        "id": "Hzi3EUbOggtA",
        "colab": {
          "base_uri": "https://localhost:8080/"
        },
        "outputId": "9e70d337-27e4-4023-871d-d6206c5d7e5b"
      },
      "outputs": [
        {
          "output_type": "stream",
          "name": "stdout",
          "text": [
            "Below are number of observations in each class\n",
            "Label\n",
            "0        4284\n",
            "1         716\n",
            "dtype: int64\n"
          ]
        }
      ],
      "source": [
        "### Q1D)\n",
        "print(\"Below are number of observations in each class\")\n",
        "print(y_train.value_counts())"
      ]
    },
    {
      "cell_type": "code",
      "execution_count": null,
      "metadata": {
        "id": "skgr88C3ggtB"
      },
      "outputs": [],
      "source": [
        "### Q1E)\n",
        "scaler = StandardScaler()\n",
        "X_train_scaled = scaler.fit_transform(X_train)\n",
        "X_test_scaled = scaler.transform(X_test)"
      ]
    },
    {
      "cell_type": "markdown",
      "metadata": {
        "id": "C1tPRpxyZ1zh"
      },
      "source": [
        "A) Build a L1-regularized logistic regression model to all the training data, and then get the predicted labels for each item of the test set.\n",
        "\n",
        "B) Print out the precision, recall, and F1-score of the test set.\n",
        "\n",
        "C) Print out the model execution time (including both training and testing time) in milliseconds. Please keep two decimal places."
      ]
    },
    {
      "cell_type": "code",
      "execution_count": null,
      "metadata": {
        "id": "EkMiEDM8ggtB"
      },
      "outputs": [],
      "source": [
        "### Q2A) \n",
        "l1_logistic_clf = LogisticRegression(penalty='l1', solver='saga')\n",
        "\n",
        "start_time_fit_q2 = time.time()\n",
        "l1_logistic_clf.fit(X_train_scaled, y_train)\n",
        "elapsed_time_fit_q2 = time.time() - start_time_fit_q2\n",
        "\n",
        "start_time_predict_q2 = time.time()\n",
        "y_pred_q2 = l1_logistic_clf.predict(X_test_scaled)\n",
        "elapsed_time_predict_q2 = time.time() - start_time_predict_q2"
      ]
    },
    {
      "cell_type": "code",
      "execution_count": null,
      "metadata": {
        "id": "HVHOhFf9ggtB",
        "colab": {
          "base_uri": "https://localhost:8080/"
        },
        "outputId": "a15866fb-b6a3-4604-dbc9-d14f4a7de617"
      },
      "outputs": [
        {
          "output_type": "stream",
          "name": "stdout",
          "text": [
            "Precision score for Logistic Regression is:  0.98\n",
            "Recall score for Logistic Regression is:  0.5568181818181818\n",
            "F1 score for Logistic Regression is:  0.7101449275362319\n"
          ]
        }
      ],
      "source": [
        "### Q2B)\n",
        "precision = precision_score(y_test, y_pred_q2)\n",
        "print(\"Precision score for Logistic Regression is: \", precision)\n",
        "\n",
        "recall = recall_score(y_test, y_pred_q2)\n",
        "print(\"Recall score for Logistic Regression is: \", recall)\n",
        "\n",
        "f1 = 2 * (precision * recall) / (precision + recall)\n",
        "print(\"F1 score for Logistic Regression is: \", f1)"
      ]
    },
    {
      "cell_type": "code",
      "execution_count": null,
      "metadata": {
        "id": "Ro9SWg_8ggtB",
        "colab": {
          "base_uri": "https://localhost:8080/"
        },
        "outputId": "cbdab276-fb4e-401d-b793-c8e5d0f162cc"
      },
      "outputs": [
        {
          "output_type": "stream",
          "name": "stdout",
          "text": [
            "Elapsed time to train Logistic Regression: 63.18 miliseconds\n",
            "Elapsed time to test Logistic Regression: 4.86 miliseconds\n"
          ]
        }
      ],
      "source": [
        "### Q2C) \n",
        "print(f\"Elapsed time to train Logistic Regression: {elapsed_time_fit_q2*1000:.2f} miliseconds\")\n",
        "print(f\"Elapsed time to test Logistic Regression: {elapsed_time_predict_q2*1000:.2f} miliseconds\")"
      ]
    },
    {
      "cell_type": "markdown",
      "metadata": {
        "id": "OJKS46WTZ1zp"
      },
      "source": [
        "A) Implement a single-layer neural network model that is used to classify the CAN intrusion data samples into normal and anomalous classes (0: normal, 1: attack). Use the standarized training set from Q1E) to train the network.\n",
        "\n",
        "The details of the model are as follows:\n",
        "* Use a Sigmoid as the output layer acitivation function to enable non-linearity. \n",
        "* Use the binary cross-entropy loss as a training criterion.\n",
        "* Use Stochastic gradient descent optimizer with a learning rate of 0.1.\n",
        "* Run the model for 10 iterations/epochs.\n",
        "\n",
        "B) Record the loss for each iteration, and make a plot of iterations/epochs vs loss(Binary Cross Entropy).\n",
        "\n",
        "C) Print out the precision, recall, and F1-score of the test set.\n",
        "\n",
        "D) Print out the model execution time (including both training and testing time) in milliseconds. Please keep two decimal places."
      ]
    },
    {
      "cell_type": "code",
      "execution_count": null,
      "metadata": {
        "id": "zN_4sayYggtB",
        "colab": {
          "base_uri": "https://localhost:8080/"
        },
        "outputId": "695266c6-f861-4255-c60a-a5fc7d857161"
      },
      "outputs": [
        {
          "output_type": "stream",
          "name": "stdout",
          "text": [
            "157/157 [==============================] - 0s 755us/step\n"
          ]
        }
      ],
      "source": [
        "### Q3A)\n",
        "\n",
        "#Indicate the input dimension for a single layer neural network\n",
        "input_size = X_train_scaled.shape[1]\n",
        "\n",
        "#Indicate the output dimension for a single layer neural network\n",
        "output_size = y_train.shape[1]\n",
        "\n",
        "#Create a Sequential model\n",
        "model_q3 = Sequential()\n",
        "\n",
        "#Set the number of neurons in single layer neural network to be equal to the output size.\n",
        "#This is because we are dealing with binary classification and we want the network to output a single value indicating the probability of the input belonging to one of the two classes.\n",
        "#Also set the activation function to be equal to logistic sigmoid.\n",
        "model_q3.add(Dense(output_size, input_dim = input_size, activation = 'sigmoid')) \n",
        "\n",
        "#Compile this single layer neural network with binary cross-entropy loss function.\n",
        "#and SGD optimizer with learning rate equals to 0.1\n",
        "model_q3.compile(loss='binary_crossentropy', optimizer=tf.keras.optimizers.SGD(learning_rate=0.1))\n",
        "\n",
        "\n",
        "start_time_fit_q3 = time.time()\n",
        "history_q3 = model_q3.fit(X_train_scaled, y_train, epochs=10, verbose=0)\n",
        "elapsed_time_fit_q3 = time.time() - start_time_fit_q3\n",
        "\n",
        "start_time_predict_q3 = time.time()\n",
        "y_pred_q3 = model_q3.predict(X_test_scaled)\n",
        "elapsed_time_predict_q3 = time.time() - start_time_predict_q3"
      ]
    },
    {
      "cell_type": "code",
      "execution_count": null,
      "metadata": {
        "id": "5b_TEkyVggtB",
        "colab": {
          "base_uri": "https://localhost:8080/",
          "height": 295
        },
        "outputId": "4bf0747f-6261-4300-d5ed-164439efce65"
      },
      "outputs": [
        {
          "output_type": "display_data",
          "data": {
            "text/plain": [
              "<Figure size 432x288 with 1 Axes>"
            ],
            "image/png": "[encoded data removed]"
          },
          "metadata": {
            "needs_background": "light"
          }
        }
      ],
      "source": [
        "### Q3B)\n",
        "plt.plot(history_q3.history['loss'])  # plotting train loss\n",
        "\n",
        "plt.title('Epochs vs. Loss')\n",
        "plt.ylabel('Loss')\n",
        "plt.xlabel('Epoch')\n",
        "plt.legend(['Train_loss'], loc='upper right')\n",
        "plt.show()"
      ]
    },
    {
      "cell_type": "code",
      "execution_count": null,
      "metadata": {
        "id": "U3wWEuY8ggtB",
        "colab": {
          "base_uri": "https://localhost:8080/"
        },
        "outputId": "30454a1b-1e14-4896-c1bf-df71a7fd80a4"
      },
      "outputs": [
        {
          "output_type": "stream",
          "name": "stdout",
          "text": [
            "Precision score for Single layer neural network is:  0.96790123\n",
            "Recall score for Single layer neural network is:  0.5568182\n",
            "F1 score for Single layer neural network is:  0.7069431819834352\n"
          ]
        }
      ],
      "source": [
        "### Q3C)\n",
        "p_q3 = tf.keras.metrics.Precision()\n",
        "p_q3.update_state(y_test, y_pred_q3)\n",
        "precision_q3 = p_q3.result().numpy()\n",
        "print(\"Precision score for Single layer neural network is: \", precision_q3)\n",
        "\n",
        "r_q3 = tf.keras.metrics.Recall()\n",
        "r_q3.update_state(y_test, y_pred_q3)\n",
        "recall_q3 = r_q3.result().numpy()\n",
        "print(\"Recall score for Single layer neural network is: \", recall_q3)\n",
        "\n",
        "f1_score_q3 = 2 * (precision_q3 * recall_q3) / (precision_q3 + recall_q3)\n",
        "print(\"F1 score for Single layer neural network is: \", f1_score_q3)"
      ]
    },
    {
      "cell_type": "code",
      "execution_count": null,
      "metadata": {
        "id": "gC1YuYB_ggtB",
        "colab": {
          "base_uri": "https://localhost:8080/"
        },
        "outputId": "915af1c9-e045-4d56-8525-f7a47f2c7b9d"
      },
      "outputs": [
        {
          "output_type": "stream",
          "name": "stdout",
          "text": [
            "Elapsed time to train Single layer neural network: 3192.31 miliseconds\n",
            "Elapsed time to test Single layer neural network: 287.12 miliseconds\n"
          ]
        }
      ],
      "source": [
        "### Q3D)\n",
        "print(f\"Elapsed time to train Single layer neural network: {elapsed_time_fit_q3*1000:.2f} miliseconds\")\n",
        "print(f\"Elapsed time to test Single layer neural network: {elapsed_time_predict_q3*1000:.2f} miliseconds\")"
      ]
    },
    {
      "cell_type": "markdown",
      "metadata": {
        "id": "Y3lbtWwFggtC"
      },
      "source": [
        "1) Implement a Multi-Layer Perceptron (MLP) model that is used to classify the CAN intrusion data samples into normal and anomalous classes (0: normal, 1: attack). Use the standarized training set from Q1E) to train the network. \n",
        "The details of the model are as follows:\n",
        "* Each hidden layer have 8 neurons/units. \n",
        "* Use tanh function as the activation function for hidden layers.\n",
        "* Use a Sigmoid as the output layer acitivation function to enable non-linearity.  \n",
        "* Use Stochastic gradient descent optimizer with a learning rate of 0.1.\n",
        "* Run the model for 10 iterations/epochs \n",
        "\n",
        "B) Record the loss for each iteration, and make a plot of iterations/epochs vs loss(Binary Cross Entropy).\n",
        "\n",
        "C) Print out the precision, recall, and F1-score of the test set.\n",
        "\n",
        "D) Print out the model execution time (including both training and testing time) in milliseconds. Please keep two decimal places."
      ]
    },
    {
      "cell_type": "code",
      "execution_count": null,
      "metadata": {
        "id": "A7dn8DkXggtC",
        "colab": {
          "base_uri": "https://localhost:8080/"
        },
        "outputId": "df49cd05-87bb-4d43-cb1b-bd425fb81539"
      },
      "outputs": [
        {
          "output_type": "stream",
          "name": "stdout",
          "text": [
            "157/157 [==============================] - 0s 924us/step\n"
          ]
        }
      ],
      "source": [
        "### Q4A)\n",
        "\n",
        "#Create a Sequential model\n",
        "model_q4 = Sequential()\n",
        "\n",
        "#first hidden layer with 8 neurons and input dimensionality equals to number of features in X_train\n",
        "model_q4.add(Dense(8, input_dim = input_size, activation = 'tanh'))\n",
        "\n",
        "#second hidden layer with 8 neurons\n",
        "model_q4.add(Dense(8, activation = 'tanh'))\n",
        "\n",
        "#output layer with output dimensionality equals to number of columns in y_train\n",
        "model_q4.add(Dense(output_size, activation = 'sigmoid'))\n",
        "\n",
        "model_q4.compile(loss = 'binary_crossentropy', optimizer = tf.keras.optimizers.SGD(learning_rate=0.1))\n",
        "\n",
        "start_time_fit_q4 = time.time()\n",
        "history_q4 = model_q4.fit(X_train_scaled, y_train, epochs=10, verbose=0)\n",
        "elapsed_time_fit_q4 = time.time() - start_time_fit_q4\n",
        "\n",
        "start_time_predict_q4 = time.time()\n",
        "y_pred_q4 = model_q4.predict(X_test_scaled)\n",
        "elapsed_time_predict_q4 = time.time() - start_time_predict_q4"
      ]
    },
    {
      "cell_type": "code",
      "execution_count": null,
      "metadata": {
        "id": "2lqPqgYeggtC",
        "colab": {
          "base_uri": "https://localhost:8080/",
          "height": 295
        },
        "outputId": "bc81fa7b-afeb-4634-adce-7493b7733a2a"
      },
      "outputs": [
        {
          "output_type": "display_data",
          "data": {
            "text/plain": [
              "<Figure size 432x288 with 1 Axes>"
            ],
            "image/png": "[encoded data removed]"
          },
          "metadata": {
            "needs_background": "light"
          }
        }
      ],
      "source": [
        "### Q4B)\n",
        "plt.plot(history_q4.history['loss'])  # plotting train loss\n",
        "\n",
        "plt.title('Epochs vs. Loss')\n",
        "plt.ylabel('Loss')\n",
        "plt.xlabel('Epoch')\n",
        "plt.legend(['Train_loss'], loc='upper right')\n",
        "plt.show()"
      ]
    },
    {
      "cell_type": "code",
      "execution_count": null,
      "metadata": {
        "id": "TIkme0FGggtC",
        "colab": {
          "base_uri": "https://localhost:8080/"
        },
        "outputId": "a5b122f3-8117-4c73-d7c9-06489b770eb8"
      },
      "outputs": [
        {
          "output_type": "stream",
          "name": "stdout",
          "text": [
            "Precision score for MLP is:  0.96387285\n",
            "Recall score for MLP is:  0.9474432\n",
            "F1 score for MLP is:  0.9555873810232604\n"
          ]
        }
      ],
      "source": [
        "### Q4C)\n",
        "p_q4 = tf.keras.metrics.Precision()\n",
        "p_q4.update_state(y_test, y_pred_q4)\n",
        "precision_q4 = p_q4.result().numpy()\n",
        "print(\"Precision score for MLP is: \", precision_q4)\n",
        "\n",
        "r_q4 = tf.keras.metrics.Recall()\n",
        "r_q4.update_state(y_test, y_pred_q4)\n",
        "recall_q4 = r_q4.result().numpy()\n",
        "print(\"Recall score for MLP is: \", recall_q4)\n",
        "\n",
        "f1_score_q4 = 2 * (precision_q4 * recall_q4) / (precision_q4 + recall_q4)\n",
        "print(\"F1 score for MLP is: \", f1_score_q4)"
      ]
    },
    {
      "cell_type": "code",
      "execution_count": null,
      "metadata": {
        "id": "7XKux_24ggtC",
        "colab": {
          "base_uri": "https://localhost:8080/"
        },
        "outputId": "1a939a25-8503-493c-fb09-8195c9f073eb"
      },
      "outputs": [
        {
          "output_type": "stream",
          "name": "stdout",
          "text": [
            "Elapsed time to train MLP with two hidden layers: 1855.32 miliseconds\n",
            "Elapsed time to test MLP with two hidden layers: 388.06 miliseconds\n"
          ]
        }
      ],
      "source": [
        "### Q4D)\n",
        "print(f\"Elapsed time to train MLP with two hidden layers: {elapsed_time_fit_q4*1000:.2f} miliseconds\")\n",
        "print(f\"Elapsed time to test MLP with two hidden layers: {elapsed_time_predict_q4*1000:.2f} miliseconds\")"
      ]
    },
    {
      "cell_type": "markdown",
      "metadata": {
        "id": "xrK7AGX9ggtC"
      },
      "source": [
        "A) Buil a Grid_Search_NN_model that has the same architecture as the MLP model from Question 4. Use grid search to tune two hyperparameters:\n",
        "* The number of neurons on the hidden layers of your MLP model (find the best number among 8, 16, 32). Each hidden layer should have the same number of neurons/nodes, so only one hyperparameter is needed to tune the number of neurons.\n",
        "* Learning rate of the SGD optimizer (find the best value among the two numbers 0.01 and 0.1). \n",
        "\n",
        "B) Implement grid search to identify optimal hyperparameter values, and print out the best hyperparameter values and the best cross-validation accuracy.\n",
        "\n",
        "C) Build the optimized MLP model on the training set by passing the detected best hyperparameter values to the Grid_Search_NN_model. Print out the precision, recall, and F1-score of the optimized MLP model on the test set."
      ]
    },
    {
      "cell_type": "code",
      "execution_count": null,
      "metadata": {
        "id": "rqHe5WqxggtC"
      },
      "outputs": [],
      "source": [
        "### Q5A)\n",
        "def Grid_Search_NN_model(hidden_neurons = 8, learning_rate = 0.1):\n",
        "    #write function here\n",
        "\n",
        "    myGSModel = Sequential()\n",
        "\n",
        "    myGSModel.add(Dense(hidden_neurons, input_dim = input_size, activation = 'tanh'))\n",
        "    myGSModel.add(Dense(hidden_neurons, activation = 'tanh'))\n",
        "    myGSModel.add(Dense(output_size, activation = 'sigmoid'))\n",
        "\n",
        "    myGSModel.compile(loss = 'binary_crossentropy', optimizer = tf.keras.optimizers.SGD(learning_rate = learning_rate))\n",
        "    return myGSModel"
      ]
    },
    {
      "cell_type": "code",
      "execution_count": null,
      "metadata": {
        "id": "tb7EzIXCggtC",
        "colab": {
          "base_uri": "https://localhost:8080/"
        },
        "outputId": "f3a5c88f-470f-42ab-b88d-ba897876bf23"
      },
      "outputs": [
        {
          "output_type": "stream",
          "name": "stdout",
          "text": [
            "53/53 [==============================] - 0s 1ms/step\n",
            "53/53 [==============================] - 0s 818us/step\n",
            "53/53 [==============================] - 0s 818us/step\n",
            "53/53 [==============================] - 0s 1ms/step\n",
            "53/53 [==============================] - 0s 884us/step\n",
            "53/53 [==============================] - 0s 876us/step\n",
            "53/53 [==============================] - 0s 1ms/step\n",
            "53/53 [==============================] - 0s 811us/step\n",
            "53/53 [==============================] - 0s 1ms/step\n",
            "53/53 [==============================] - 0s 832us/step\n",
            "53/53 [==============================] - 0s 875us/step\n",
            "53/53 [==============================] - 0s 887us/step\n",
            "53/53 [==============================] - 0s 1ms/step\n",
            "53/53 [==============================] - 0s 839us/step\n",
            "53/53 [==============================] - 0s 862us/step\n",
            "53/53 [==============================] - 0s 810us/step\n",
            "53/53 [==============================] - 0s 1ms/step\n",
            "53/53 [==============================] - 0s 788us/step\n",
            "The best combination of number of hidden neurons and learning rate is:  {'hidden_neurons': 16, 'learning_rate': 0.1}\n",
            "The best cross-validation accuracy is:  0.9875994789037391\n"
          ]
        }
      ],
      "source": [
        "### Q5B)\n",
        "# Run gridsearch here\n",
        "param_space = {\n",
        "    'hidden_neurons': [8, 16, 32],\n",
        "    'learning_rate': [0.01, 0.1]\n",
        "}\n",
        "\n",
        "grid_search = GridSearchCV(estimator = KerasClassifier(build_fn = Grid_Search_NN_model, epochs = 10, verbose = 0), \n",
        "                           param_grid = param_space, \n",
        "                           scoring = 'accuracy',\n",
        "                           cv = 3)\n",
        "\n",
        "grid_search_result = grid_search.fit(X_train_scaled, y_train)\n",
        "\n",
        "print(\"The best combination of number of hidden neurons and learning rate is: \", grid_search_result.best_params_)\n",
        "print(\"The best cross-validation accuracy is: \", grid_search_result.best_score_)"
      ]
    },
    {
      "cell_type": "code",
      "execution_count": null,
      "metadata": {
        "id": "MoW_aAtzggtC",
        "colab": {
          "base_uri": "https://localhost:8080/"
        },
        "outputId": "cdfeeded-bffd-4fcc-ff23-f9d2581e4a0c"
      },
      "outputs": [
        {
          "output_type": "stream",
          "name": "stdout",
          "text": [
            "157/157 [==============================] - 0s 878us/step\n",
            "Precision score for Optimized NN model is:  0.94174755\n",
            "Recall score for Optimized NN model is:  0.9644886\n",
            "F1 score for Optimized NN model is:  0.9529824520151379\n"
          ]
        }
      ],
      "source": [
        "### Q5C)\n",
        "optimized_hn = grid_search_result.best_params_['hidden_neurons']\n",
        "optimized_lr = grid_search_result.best_params_['learning_rate']\n",
        "\n",
        "optimized_NN = Grid_Search_NN_model(optimized_hn, optimized_lr)\n",
        "optimized_NN.fit(X_train_scaled, y_train, epochs=10, verbose=0)\n",
        "y_pred_optimized = optimized_NN.predict(X_test_scaled)\n",
        "\n",
        "p_q5 = tf.keras.metrics.Precision()\n",
        "p_q5.update_state(y_test, y_pred_optimized)\n",
        "precision_q5 = p_q5.result().numpy()\n",
        "print(\"Precision score for Optimized NN model is: \", precision_q5)\n",
        "\n",
        "r_q5 = tf.keras.metrics.Recall()\n",
        "r_q5.update_state(y_test, y_pred_optimized)\n",
        "recall_q5 = r_q5.result().numpy()\n",
        "print(\"Recall score for Optimized NN model is: \", recall_q5)\n",
        "\n",
        "f1_score_q5 = 2 * (precision_q5 * recall_q5) / (precision_q5 + recall_q5)\n",
        "print(\"F1 score for Optimized NN model is: \", f1_score_q5)"
      ]
    }
  ],
  "metadata": {
    "colab": {
      "provenance": []
    },
    "kernelspec": {
      "display_name": "Python 3",
      "language": "python",
      "name": "python3"
    },
    "language_info": {
      "codemirror_mode": {
        "name": "ipython",
        "version": 3
      },
      "file_extension": ".py",
      "mimetype": "text/x-python",
      "name": "python",
      "nbconvert_exporter": "python",
      "pygments_lexer": "ipython3",
      "version": "3.6.8"
    }
  },
  "nbformat": 4,
  "nbformat_minor": 0
}